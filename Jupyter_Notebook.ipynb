{
 "cells": [
  {
   "cell_type": "markdown",
   "metadata": {},
   "source": [
    "<center>\n",
    "    <img src=\"https://cf-courses-data.s3.us.cloud-object-storage.appdomain.cloud/IBMDeveloperSkillsNetwork-DS0105EN-SkillsNetwork/labs/Module2/images/SN_web_lightmode.png\" width=\"300\" alt=\"cognitiveclass.ai logo\"  />\n",
    "</center>\n"
   ]
  },
  {
   "cell_type": "markdown",
   "metadata": {},
   "source": [
    "# My Jupyter Notebook on IBM Watson Studio"
   ]
  },
  {
   "attachments": {},
   "cell_type": "markdown",
   "metadata": {},
   "source": [
    "**Name: Devendra Parihar**\n",
    "\n",
    "Occupation: Data Scientist and 3rd year student of Artificial Intelligence and Data Science"
   ]
  },
  {
   "attachments": {},
   "cell_type": "markdown",
   "metadata": {},
   "source": [
    "*I'm eager to expand my knowledge on utilizing data science tools for analyzing large data sets produced by agronomic research trials. Additionally, I am determined to enhance my skills as a data scientist to excel in the field of plant breeding, where the selection pipeline generates vast amounts of genetic and phenotypic data.*"
   ]
  },
  {
   "attachments": {},
   "cell_type": "markdown",
   "metadata": {},
   "source": [
    "## List of Data Science Languages\n",
    "\n",
    "* Python: Python is the most popular language for data science. It has a vast collection of libraries, frameworks, and tools for data analysis, machine learning, and data visualization. Some popular libraries for data science include NumPy, Pandas, Scikit-learn, TensorFlow, PyTorch, and Matplotlib.\n",
    "\n",
    "* R: R is another popular language for data science, especially for statistical analysis. R has a comprehensive collection of packages for data manipulation, modeling, and visualization. Some popular packages for data science include dplyr, tidyr, ggplot2, caret, and randomForest.\n",
    "\n",
    "* SQL: Structured Query Language (SQL) is the standard language used for managing and querying relational databases. SQL is used for data storage, data manipulation, and data retrieval. SQL is used in conjunction with programming languages like Python, R, and Java.\n",
    "\n",
    "* Java: Java is a popular general-purpose language used in data science for developing big data applications. Java is used for building enterprise-level systems for processing large datasets.\n",
    "\n",
    "* Scala: Scala is another language used in big data applications. Scala is a high-level language that is compatible with Java. Scala is used for building high-performance, distributed computing systems.\n",
    "\n",
    "* MATLAB: MATLAB is a proprietary language used for scientific computing and data analysis. MATLAB has a comprehensive collection of toolboxes and functions for data analysis, machine learning, and signal processing.\n",
    "\n",
    "* Julia: Julia is a relatively new language that is gaining popularity in the data science community. Julia is a high-level language that is designed for numerical and scientific computing. Julia is known for its speed and ease of use."
   ]
  },
  {
   "attachments": {},
   "cell_type": "markdown",
   "metadata": {},
   "source": [
    "## List Data Science Libraries\n",
    "\n",
    "* NumPy: NumPy is a library for numerical computing in Python. It provides support for arrays, matrices, and mathematical functions for linear algebra, Fourier analysis, and random number generation.\n",
    "\n",
    "* Pandas: Pandas is a library for data manipulation and analysis in Python. It provides support for working with structured data, including data frames and series, and includes functions for data cleaning, reshaping, and aggregation.\n",
    "\n",
    "* Scikit-learn: Scikit-learn is a library for machine learning in Python. It provides support for a wide range of machine learning models, including regression, classification, clustering, and dimensionality reduction.\n",
    "\n",
    "* TensorFlow: TensorFlow is an open-source machine learning library developed by Google. It provides support for building and training deep learning models, including convolutional neural networks (CNNs) and recurrent neural networks (RNNs).\n",
    "\n",
    "* PyTorch: PyTorch is an open-source machine learning library developed by Facebook. It provides support for building and training deep learning models, including CNNs, RNNs, and transformer networks.\n",
    "\n",
    "* Matplotlib: Matplotlib is a library for data visualization in Python. It provides support for creating a wide range of plots and charts, including line charts, scatter plots, and histograms.\n",
    "\n",
    "* Seaborn: Seaborn is a library for statistical data visualization in Python. It provides support for creating more complex plots and charts, including heatmaps, violin plots, and swarm plots.\n",
    "\n",
    "* Keras: Keras is a high-level neural network library written in Python. It provides support for building and training deep learning models, and is designed to be easy to use and flexible.\n",
    "\n",
    "* NLTK: The Natural Language Toolkit (NLTK) is a library for natural language processing (NLP) in Python. It provides support for working with text data, including tokenization, stemming, and part-of-speech tagging.\n",
    "\n",
    "* SpaCy: SpaCy is a library for NLP in Python. It provides support for a wide range of NLP tasks, including named entity recognition, dependency parsing, and text classification."
   ]
  },
  {
   "attachments": {},
   "cell_type": "markdown",
   "metadata": {},
   "source": [
    "## Table of Data Science tools.\n",
    "| Tool | Description | Language(s) |\n",
    "|---|---|---|\n",
    "| Jupyter Notebook | An open-source web application that allows you to create and share documents that contain live code, equations, visualizations, and narrative text. | \tPython, R, Julia |\n",
    "| Spyder | An open-source integrated development environment (IDE) for Python. It provides an editor, console, and interactive development environment for scientific computing and data analysis. | Python |\n",
    "| RStudio | An open-source IDE for R. It provides an editor, console, and interactive development environment for data analysis, visualization, and statistical modeling. | R |\n",
    "| Visual Studio Code | A lightweight, open-source IDE developed by Microsoft. It provides support for multiple languages, including Python, R, and Julia, and includes extensions for data science and machine learning. | Python, R, Julia |\n",
    "| Tableau | A data visualization tool that allows you to connect to and visualize data from a variety of sources, including spreadsheets, databases, and cloud services. | N/A |\n",
    "| Power BI | A business analytics service that allows you to connect to and visualize data from a variety of sources, including spreadsheets, databases, and cloud services. | N/A |\n",
    "| Apache Hadoop | An open-source framework for distributed storage and processing of big data. It provides support for distributed file systems and MapReduce, a programming model for large-scale data processing. | Java |\n",
    "| Apache Spark | An open-source framework for distributed processing of big data. It provides support for in-memory processing, streaming data, and machine learning. | Scala, Python, Java, R |\n",
    "|Apache Kafka | An open-source platform for real-time data streaming. It provides support for scalable, high-throughput, and fault-tolerant data streaming. | N/A |\n",
    "| Databricks | A cloud-based platform that provides a unified analytics platform for big data processing and machine learning. It provides support for Apache Spark, Python, R, and SQL. | Python, R, SQL |"
   ]
  },
  {
   "attachments": {},
   "cell_type": "markdown",
   "metadata": {},
   "source": [
    "## Arithmetic Expressions in Mathematics\n",
    "In mathematics, an arithmetic expression is a combination of numbers and mathematical operations, such as addition, subtraction, multiplication, and division. These expressions can be simple or complex, and can be used to represent real-world problems or mathematical concepts.\n",
    "\n",
    "Here are some examples of arithmetic expressions:\n",
    "\n",
    "* `2 + 3` : This expression represents the sum of 2 and 3, which is equal to 5.\n",
    "* `4 - 1`: This expression represents the difference between 4 and 1, which is equal to 3.\n",
    "* `5 * 6`: This expression represents the product of 5 and 6, which is equal to 30.\n",
    "* `12 / 3`: This expression represents the quotient of 12 divided by 3, which is equal to 4.\n",
    "Arithmetic expressions can also include parentheses to indicate the order of operations. For example:\n",
    "\n",
    "`2 + 3 * 4`: Without parentheses, this expression would be evaluated as `2 + (3 * 4)`, which is equal to 14. However, if we add parentheses to indicate that we want to add 2 and 3 first, we can write the expression as `(2 + 3) * 4`, which is equal to 20.\n",
    "Understanding arithmetic expressions is an important foundation for many areas of mathematics and data science. In programming, arithmetic expressions are often used to perform calculations and manipulate data."
   ]
  },
  {
   "cell_type": "code",
   "execution_count": 3,
   "metadata": {},
   "outputs": [
    {
     "name": "stdout",
     "output_type": "stream",
     "text": [
      "num1 multiplied by num2 is 30\n",
      "num1 added to num2 is 11\n"
     ]
    }
   ],
   "source": [
    "# Multiply\n",
    "num1 = 5\n",
    "num2 = 6\n",
    "\n",
    "# Add code below to print num1 multiplied by num2\n",
    "print('num1 multiplied by num2 is', num1 * num2)\n",
    "# Addition  \n",
    "num1 = 5\n",
    "num2 = 6\n",
    "\n",
    "# Add code below to print num1 added to num2\n",
    "print('num1 added to num2 is', num1 + num2)"
   ]
  },
  {
   "cell_type": "code",
   "execution_count": 5,
   "metadata": {},
   "outputs": [
    {
     "name": "stdout",
     "output_type": "stream",
     "text": [
      "There are 1.5 hours in 90 minutes.\n"
     ]
    }
   ],
   "source": [
    "# convert minutes to hours\n",
    "minutes = 90\n",
    "hours = minutes / 60\n",
    "\n",
    "print(\"There are\", hours, \"hours in\", minutes, \"minutes.\")\n"
   ]
  },
  {
   "attachments": {},
   "cell_type": "markdown",
   "metadata": {},
   "source": [
    "> Hey, The Course is 'Tools for Data Science is completed.\n",
    "\n",
    "### Special Thanks to\n",
    "* Aije Egwaikhide, Senior Data Scientist\n",
    "* Svetlana Levitan, Senior Developer Advocate with IBM Center for Open Data and AI\n",
    "* Romeo Kienzler, Chief Data Scientist, Course Lead"
   ]
  }
 ],
 "metadata": {
  "kernelspec": {
   "display_name": "base",
   "language": "python",
   "name": "python3"
  },
  "language_info": {
   "codemirror_mode": {
    "name": "ipython",
    "version": 3
   },
   "file_extension": ".py",
   "mimetype": "text/x-python",
   "name": "python",
   "nbconvert_exporter": "python",
   "pygments_lexer": "ipython3",
   "version": "3.9.13"
  }
 },
 "nbformat": 4,
 "nbformat_minor": 4
}
