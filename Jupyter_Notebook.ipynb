{
 "cells": [
  {
   "cell_type": "markdown",
   "metadata": {},
   "source": [
    "<center>\n",
    "    <img src=\"https://cf-courses-data.s3.us.cloud-object-storage.appdomain.cloud/IBMDeveloperSkillsNetwork-DS0105EN-SkillsNetwork/labs/Module2/images/SN_web_lightmode.png\" width=\"300\" alt=\"cognitiveclass.ai logo\"  />\n",
    "</center>\n"
   ]
  },
  {
   "cell_type": "markdown",
   "metadata": {},
   "source": [
    "# My Jupyter Notebook on IBM Watson Studio"
   ]
  },
  {
   "attachments": {},
   "cell_type": "markdown",
   "metadata": {},
   "source": [
    "**Name: Devendra Parihar**\n",
    "\n",
    "Occupation: Data Scientist and 3rd year student of Artificial Intelligence and Data Science"
   ]
  },
  {
   "attachments": {},
   "cell_type": "markdown",
   "metadata": {},
   "source": [
    "*I'm eager to expand my knowledge on utilizing data science tools for analyzing large data sets produced by agronomic research trials. Additionally, I am determined to enhance my skills as a data scientist to excel in the field of plant breeding, where the selection pipeline generates vast amounts of genetic and phenotypic data.*"
   ]
  },
  {
   "attachments": {},
   "cell_type": "markdown",
   "metadata": {},
   "source": [
    "### This code will print \"I'am the Data Scientist\""
   ]
  },
  {
   "cell_type": "code",
   "execution_count": 1,
   "metadata": {},
   "outputs": [
    {
     "name": "stdout",
     "output_type": "stream",
     "text": [
      "I'am the Data Scientist\n"
     ]
    }
   ],
   "source": [
    "print(\"I'am the Data Scientist\")"
   ]
  },
  {
   "attachments": {},
   "cell_type": "markdown",
   "metadata": {},
   "source": [
    "> Hey, The Course is 'Tools for Data Science is completed'\n",
    "\n",
    "### Special Thanks to\n",
    "* Aije Egwaikhide, Senior Data Scientist\n",
    "* Svetlana Levitan, Senior Developer Advocate with IBM Center for Open Data and AI\n",
    "* Romeo Kienzler, Chief Data Scientist, Course Lead"
   ]
  }
 ],
 "metadata": {
  "kernelspec": {
   "display_name": "base",
   "language": "python",
   "name": "python3"
  },
  "language_info": {
   "codemirror_mode": {
    "name": "ipython",
    "version": 3
   },
   "file_extension": ".py",
   "mimetype": "text/x-python",
   "name": "python",
   "nbconvert_exporter": "python",
   "pygments_lexer": "ipython3",
   "version": "3.9.13"
  }
 },
 "nbformat": 4,
 "nbformat_minor": 4
}
